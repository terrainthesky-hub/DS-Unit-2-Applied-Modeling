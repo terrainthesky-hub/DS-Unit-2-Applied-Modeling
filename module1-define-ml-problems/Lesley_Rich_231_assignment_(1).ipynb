{
  "nbformat": 4,
  "nbformat_minor": 0,
  "metadata": {
    "kernelspec": {
      "display_name": "Python 3",
      "language": "python",
      "name": "python3"
    },
    "language_info": {
      "codemirror_mode": {
        "name": "ipython",
        "version": 3
      },
      "file_extension": ".py",
      "mimetype": "text/x-python",
      "name": "python",
      "nbconvert_exporter": "python",
      "pygments_lexer": "ipython3",
      "version": "3.7.4"
    },
    "colab": {
      "name": "Lesley_Rich_231_assignment (1).ipynb",
      "provenance": [],
      "include_colab_link": true
    }
  },
  "cells": [
    {
      "cell_type": "markdown",
      "metadata": {
        "id": "view-in-github",
        "colab_type": "text"
      },
      "source": [
        "<a href=\"https://colab.research.google.com/github/terrainthesky-hub/DS-Unit-2-Applied-Modeling/blob/master/module1-define-ml-problems/Lesley_Rich_231_assignment_(1).ipynb\" target=\"_parent\"><img src=\"https://colab.research.google.com/assets/colab-badge.svg\" alt=\"Open In Colab\"/></a>"
      ]
    },
    {
      "cell_type": "code",
      "metadata": {
        "id": "VyPTzxG9pDa9",
        "colab_type": "code",
        "colab": {}
      },
      "source": [
        "import pandas as pd\n",
        "import os\n",
        "import numpy as np\n",
        "import matplotlib.pyplot as plt"
      ],
      "execution_count": 0,
      "outputs": []
    },
    {
      "cell_type": "code",
      "metadata": {
        "scrolled": true,
        "id": "3UvbjJH3pDbA",
        "colab_type": "code",
        "colab": {},
        "outputId": "a3ce2f2e-a604-4bec-ab50-f10cd72f147e"
      },
      "source": [
        "#Data set: https://www.kaggle.com/rush4ratio/video-game-sales-with-ratings\n",
        "df = pd.read_csv(r'C:\\Users\\Lesley\\Downloads\\video-game-sales-with-ratings\\Video_Games_Sales_as_at_22_Dec_2016.csv')\n",
        "\n",
        "\n",
        "\n",
        "print(df.shape)\n",
        "df.head(100)"
      ],
      "execution_count": 0,
      "outputs": [
        {
          "output_type": "stream",
          "text": [
            "(16719, 16)\n"
          ],
          "name": "stdout"
        },
        {
          "output_type": "execute_result",
          "data": {
            "text/html": [
              "<div>\n",
              "<style scoped>\n",
              "    .dataframe tbody tr th:only-of-type {\n",
              "        vertical-align: middle;\n",
              "    }\n",
              "\n",
              "    .dataframe tbody tr th {\n",
              "        vertical-align: top;\n",
              "    }\n",
              "\n",
              "    .dataframe thead th {\n",
              "        text-align: right;\n",
              "    }\n",
              "</style>\n",
              "<table border=\"1\" class=\"dataframe\">\n",
              "  <thead>\n",
              "    <tr style=\"text-align: right;\">\n",
              "      <th></th>\n",
              "      <th>Name</th>\n",
              "      <th>Platform</th>\n",
              "      <th>Year_of_Release</th>\n",
              "      <th>Genre</th>\n",
              "      <th>Publisher</th>\n",
              "      <th>NA_Sales</th>\n",
              "      <th>EU_Sales</th>\n",
              "      <th>JP_Sales</th>\n",
              "      <th>Other_Sales</th>\n",
              "      <th>Global_Sales</th>\n",
              "      <th>Critic_Score</th>\n",
              "      <th>Critic_Count</th>\n",
              "      <th>User_Score</th>\n",
              "      <th>User_Count</th>\n",
              "      <th>Developer</th>\n",
              "      <th>Rating</th>\n",
              "    </tr>\n",
              "  </thead>\n",
              "  <tbody>\n",
              "    <tr>\n",
              "      <th>0</th>\n",
              "      <td>Wii Sports</td>\n",
              "      <td>Wii</td>\n",
              "      <td>2006.0</td>\n",
              "      <td>Sports</td>\n",
              "      <td>Nintendo</td>\n",
              "      <td>41.36</td>\n",
              "      <td>28.96</td>\n",
              "      <td>3.77</td>\n",
              "      <td>8.45</td>\n",
              "      <td>82.53</td>\n",
              "      <td>76.0</td>\n",
              "      <td>51.0</td>\n",
              "      <td>8</td>\n",
              "      <td>322.0</td>\n",
              "      <td>Nintendo</td>\n",
              "      <td>E</td>\n",
              "    </tr>\n",
              "    <tr>\n",
              "      <th>1</th>\n",
              "      <td>Super Mario Bros.</td>\n",
              "      <td>NES</td>\n",
              "      <td>1985.0</td>\n",
              "      <td>Platform</td>\n",
              "      <td>Nintendo</td>\n",
              "      <td>29.08</td>\n",
              "      <td>3.58</td>\n",
              "      <td>6.81</td>\n",
              "      <td>0.77</td>\n",
              "      <td>40.24</td>\n",
              "      <td>NaN</td>\n",
              "      <td>NaN</td>\n",
              "      <td>NaN</td>\n",
              "      <td>NaN</td>\n",
              "      <td>NaN</td>\n",
              "      <td>NaN</td>\n",
              "    </tr>\n",
              "    <tr>\n",
              "      <th>2</th>\n",
              "      <td>Mario Kart Wii</td>\n",
              "      <td>Wii</td>\n",
              "      <td>2008.0</td>\n",
              "      <td>Racing</td>\n",
              "      <td>Nintendo</td>\n",
              "      <td>15.68</td>\n",
              "      <td>12.76</td>\n",
              "      <td>3.79</td>\n",
              "      <td>3.29</td>\n",
              "      <td>35.52</td>\n",
              "      <td>82.0</td>\n",
              "      <td>73.0</td>\n",
              "      <td>8.3</td>\n",
              "      <td>709.0</td>\n",
              "      <td>Nintendo</td>\n",
              "      <td>E</td>\n",
              "    </tr>\n",
              "    <tr>\n",
              "      <th>3</th>\n",
              "      <td>Wii Sports Resort</td>\n",
              "      <td>Wii</td>\n",
              "      <td>2009.0</td>\n",
              "      <td>Sports</td>\n",
              "      <td>Nintendo</td>\n",
              "      <td>15.61</td>\n",
              "      <td>10.93</td>\n",
              "      <td>3.28</td>\n",
              "      <td>2.95</td>\n",
              "      <td>32.77</td>\n",
              "      <td>80.0</td>\n",
              "      <td>73.0</td>\n",
              "      <td>8</td>\n",
              "      <td>192.0</td>\n",
              "      <td>Nintendo</td>\n",
              "      <td>E</td>\n",
              "    </tr>\n",
              "    <tr>\n",
              "      <th>4</th>\n",
              "      <td>Pokemon Red/Pokemon Blue</td>\n",
              "      <td>GB</td>\n",
              "      <td>1996.0</td>\n",
              "      <td>Role-Playing</td>\n",
              "      <td>Nintendo</td>\n",
              "      <td>11.27</td>\n",
              "      <td>8.89</td>\n",
              "      <td>10.22</td>\n",
              "      <td>1.00</td>\n",
              "      <td>31.37</td>\n",
              "      <td>NaN</td>\n",
              "      <td>NaN</td>\n",
              "      <td>NaN</td>\n",
              "      <td>NaN</td>\n",
              "      <td>NaN</td>\n",
              "      <td>NaN</td>\n",
              "    </tr>\n",
              "    <tr>\n",
              "      <th>...</th>\n",
              "      <td>...</td>\n",
              "      <td>...</td>\n",
              "      <td>...</td>\n",
              "      <td>...</td>\n",
              "      <td>...</td>\n",
              "      <td>...</td>\n",
              "      <td>...</td>\n",
              "      <td>...</td>\n",
              "      <td>...</td>\n",
              "      <td>...</td>\n",
              "      <td>...</td>\n",
              "      <td>...</td>\n",
              "      <td>...</td>\n",
              "      <td>...</td>\n",
              "      <td>...</td>\n",
              "      <td>...</td>\n",
              "    </tr>\n",
              "    <tr>\n",
              "      <th>95</th>\n",
              "      <td>Crash Bandicoot 2: Cortex Strikes Back</td>\n",
              "      <td>PS</td>\n",
              "      <td>1997.0</td>\n",
              "      <td>Platform</td>\n",
              "      <td>Sony Computer Entertainment</td>\n",
              "      <td>3.78</td>\n",
              "      <td>2.17</td>\n",
              "      <td>1.31</td>\n",
              "      <td>0.31</td>\n",
              "      <td>7.58</td>\n",
              "      <td>NaN</td>\n",
              "      <td>NaN</td>\n",
              "      <td>NaN</td>\n",
              "      <td>NaN</td>\n",
              "      <td>NaN</td>\n",
              "      <td>NaN</td>\n",
              "    </tr>\n",
              "    <tr>\n",
              "      <th>96</th>\n",
              "      <td>Super Smash Bros. for Wii U and 3DS</td>\n",
              "      <td>3DS</td>\n",
              "      <td>2014.0</td>\n",
              "      <td>Fighting</td>\n",
              "      <td>Nintendo</td>\n",
              "      <td>3.27</td>\n",
              "      <td>1.37</td>\n",
              "      <td>2.43</td>\n",
              "      <td>0.48</td>\n",
              "      <td>7.55</td>\n",
              "      <td>NaN</td>\n",
              "      <td>NaN</td>\n",
              "      <td>NaN</td>\n",
              "      <td>NaN</td>\n",
              "      <td>NaN</td>\n",
              "      <td>NaN</td>\n",
              "    </tr>\n",
              "    <tr>\n",
              "      <th>97</th>\n",
              "      <td>Super Mario Galaxy 2</td>\n",
              "      <td>Wii</td>\n",
              "      <td>2010.0</td>\n",
              "      <td>Platform</td>\n",
              "      <td>Nintendo</td>\n",
              "      <td>3.56</td>\n",
              "      <td>2.35</td>\n",
              "      <td>0.98</td>\n",
              "      <td>0.62</td>\n",
              "      <td>7.51</td>\n",
              "      <td>97.0</td>\n",
              "      <td>87.0</td>\n",
              "      <td>9.1</td>\n",
              "      <td>1854.0</td>\n",
              "      <td>Nintendo EAD Tokyo</td>\n",
              "      <td>E</td>\n",
              "    </tr>\n",
              "    <tr>\n",
              "      <th>98</th>\n",
              "      <td>Super Mario Bros. 2</td>\n",
              "      <td>NES</td>\n",
              "      <td>1988.0</td>\n",
              "      <td>Platform</td>\n",
              "      <td>Nintendo</td>\n",
              "      <td>5.39</td>\n",
              "      <td>1.18</td>\n",
              "      <td>0.70</td>\n",
              "      <td>0.19</td>\n",
              "      <td>7.46</td>\n",
              "      <td>NaN</td>\n",
              "      <td>NaN</td>\n",
              "      <td>NaN</td>\n",
              "      <td>NaN</td>\n",
              "      <td>NaN</td>\n",
              "      <td>NaN</td>\n",
              "    </tr>\n",
              "    <tr>\n",
              "      <th>99</th>\n",
              "      <td>Call of Duty: Black Ops 3</td>\n",
              "      <td>XOne</td>\n",
              "      <td>2015.0</td>\n",
              "      <td>Shooter</td>\n",
              "      <td>Activision</td>\n",
              "      <td>4.59</td>\n",
              "      <td>2.11</td>\n",
              "      <td>0.01</td>\n",
              "      <td>0.68</td>\n",
              "      <td>7.39</td>\n",
              "      <td>NaN</td>\n",
              "      <td>NaN</td>\n",
              "      <td>NaN</td>\n",
              "      <td>NaN</td>\n",
              "      <td>NaN</td>\n",
              "      <td>NaN</td>\n",
              "    </tr>\n",
              "  </tbody>\n",
              "</table>\n",
              "<p>100 rows × 16 columns</p>\n",
              "</div>"
            ],
            "text/plain": [
              "                                      Name Platform  Year_of_Release  \\\n",
              "0                               Wii Sports      Wii           2006.0   \n",
              "1                        Super Mario Bros.      NES           1985.0   \n",
              "2                           Mario Kart Wii      Wii           2008.0   \n",
              "3                        Wii Sports Resort      Wii           2009.0   \n",
              "4                 Pokemon Red/Pokemon Blue       GB           1996.0   \n",
              "..                                     ...      ...              ...   \n",
              "95  Crash Bandicoot 2: Cortex Strikes Back       PS           1997.0   \n",
              "96     Super Smash Bros. for Wii U and 3DS      3DS           2014.0   \n",
              "97                    Super Mario Galaxy 2      Wii           2010.0   \n",
              "98                     Super Mario Bros. 2      NES           1988.0   \n",
              "99               Call of Duty: Black Ops 3     XOne           2015.0   \n",
              "\n",
              "           Genre                    Publisher  NA_Sales  EU_Sales  JP_Sales  \\\n",
              "0         Sports                     Nintendo     41.36     28.96      3.77   \n",
              "1       Platform                     Nintendo     29.08      3.58      6.81   \n",
              "2         Racing                     Nintendo     15.68     12.76      3.79   \n",
              "3         Sports                     Nintendo     15.61     10.93      3.28   \n",
              "4   Role-Playing                     Nintendo     11.27      8.89     10.22   \n",
              "..           ...                          ...       ...       ...       ...   \n",
              "95      Platform  Sony Computer Entertainment      3.78      2.17      1.31   \n",
              "96      Fighting                     Nintendo      3.27      1.37      2.43   \n",
              "97      Platform                     Nintendo      3.56      2.35      0.98   \n",
              "98      Platform                     Nintendo      5.39      1.18      0.70   \n",
              "99       Shooter                   Activision      4.59      2.11      0.01   \n",
              "\n",
              "    Other_Sales  Global_Sales  Critic_Score  Critic_Count User_Score  \\\n",
              "0          8.45         82.53          76.0          51.0          8   \n",
              "1          0.77         40.24           NaN           NaN        NaN   \n",
              "2          3.29         35.52          82.0          73.0        8.3   \n",
              "3          2.95         32.77          80.0          73.0          8   \n",
              "4          1.00         31.37           NaN           NaN        NaN   \n",
              "..          ...           ...           ...           ...        ...   \n",
              "95         0.31          7.58           NaN           NaN        NaN   \n",
              "96         0.48          7.55           NaN           NaN        NaN   \n",
              "97         0.62          7.51          97.0          87.0        9.1   \n",
              "98         0.19          7.46           NaN           NaN        NaN   \n",
              "99         0.68          7.39           NaN           NaN        NaN   \n",
              "\n",
              "    User_Count           Developer Rating  \n",
              "0        322.0            Nintendo      E  \n",
              "1          NaN                 NaN    NaN  \n",
              "2        709.0            Nintendo      E  \n",
              "3        192.0            Nintendo      E  \n",
              "4          NaN                 NaN    NaN  \n",
              "..         ...                 ...    ...  \n",
              "95         NaN                 NaN    NaN  \n",
              "96         NaN                 NaN    NaN  \n",
              "97      1854.0  Nintendo EAD Tokyo      E  \n",
              "98         NaN                 NaN    NaN  \n",
              "99         NaN                 NaN    NaN  \n",
              "\n",
              "[100 rows x 16 columns]"
            ]
          },
          "metadata": {
            "tags": []
          },
          "execution_count": 2
        }
      ]
    },
    {
      "cell_type": "code",
      "metadata": {
        "id": "AZvSuLrLpDbD",
        "colab_type": "code",
        "colab": {}
      },
      "source": [
        ""
      ],
      "execution_count": 0,
      "outputs": []
    },
    {
      "cell_type": "code",
      "metadata": {
        "id": "Xb8IX4FVpDbF",
        "colab_type": "code",
        "colab": {}
      },
      "source": [
        "#Subsetting the dataframe to remove the games with missing values in some columns\n",
        "\n",
        "#df2 = df.dropna()"
      ],
      "execution_count": 0,
      "outputs": []
    },
    {
      "cell_type": "code",
      "metadata": {
        "id": "B11rMwHgpDbH",
        "colab_type": "code",
        "colab": {}
      },
      "source": [
        "#df2.head()"
      ],
      "execution_count": 0,
      "outputs": []
    },
    {
      "cell_type": "code",
      "metadata": {
        "id": "5qwqPu_rpDbJ",
        "colab_type": "code",
        "colab": {}
      },
      "source": [
        "#Saving for later for column na \n",
        "\n",
        "#no_na = []\n",
        "#for row in df:\n",
        "#    if df[row].isna().sum() == 0:\n",
        "#        no_na.append(f'{row}')"
      ],
      "execution_count": 0,
      "outputs": []
    },
    {
      "cell_type": "code",
      "metadata": {
        "id": "UBHMR9zepDbM",
        "colab_type": "code",
        "colab": {}
      },
      "source": [
        "#df = df[no_na]"
      ],
      "execution_count": 0,
      "outputs": []
    },
    {
      "cell_type": "code",
      "metadata": {
        "id": "jai9eCMipDbO",
        "colab_type": "code",
        "colab": {},
        "outputId": "6067aac3-97cb-4f35-bcdb-38019415750e"
      },
      "source": [
        "y = df['NA_Sales']\n",
        "\n",
        "import seaborn as sns\n",
        "\n",
        "sns.distplot(y)"
      ],
      "execution_count": 0,
      "outputs": [
        {
          "output_type": "execute_result",
          "data": {
            "text/plain": [
              "<matplotlib.axes._subplots.AxesSubplot at 0x22657592048>"
            ]
          },
          "metadata": {
            "tags": []
          },
          "execution_count": 7
        },
        {
          "output_type": "display_data",
          "data": {
            "image/png": "[encoded data removed]",
            "text/plain": [
              "<Figure size 432x288 with 1 Axes>"
            ]
          },
          "metadata": {
            "tags": [],
            "needs_background": "light"
          }
        }
      ]
    },
    {
      "cell_type": "code",
      "metadata": {
        "id": "KD95kAU7pDbQ",
        "colab_type": "code",
        "colab": {},
        "outputId": "9febf6ff-15cf-4089-a158-9b1f366387a4"
      },
      "source": [
        "#Log transforming the target because it's right skewed\n",
        "\n",
        "import numpy as np\n",
        "y_log = np.log1p(y)\n",
        "sns.distplot(y_log)"
      ],
      "execution_count": 0,
      "outputs": [
        {
          "output_type": "execute_result",
          "data": {
            "text/plain": [
              "<matplotlib.axes._subplots.AxesSubplot at 0x2266f8de6c8>"
            ]
          },
          "metadata": {
            "tags": []
          },
          "execution_count": 8
        },
        {
          "output_type": "display_data",
          "data": {
            "image/png": "[encoded data removed]",
            "text/plain": [
              "<Figure size 432x288 with 1 Axes>"
            ]
          },
          "metadata": {
            "tags": [],
            "needs_background": "light"
          }
        }
      ]
    },
    {
      "cell_type": "code",
      "metadata": {
        "id": "n5yCEajSpDbS",
        "colab_type": "code",
        "colab": {}
      },
      "source": [
        "#Dropping sales columns of other countries to prevent data leakage\n",
        "df2 = df.drop(columns=['Global_Sales', 'EU_Sales', 'JP_Sales', 'Other_Sales'])"
      ],
      "execution_count": 0,
      "outputs": []
    },
    {
      "cell_type": "code",
      "metadata": {
        "id": "3dVKGsMEpDbV",
        "colab_type": "code",
        "colab": {}
      },
      "source": [
        "#Creating a binary column that says whether a publisher is AAA\n",
        "df2['AAA_Publisher'] = df2['Publisher'].str.contains('Nintendo') | df2['Publisher'].str.contains('Take-Two Interactive') | df2['Publisher'].str.contains('Activision') | df2['Publisher'].str.contains('Microsoft Game Studios')| df2['Publisher'].str.contains('Sony Computer Entertainment') | df2['Publisher'].str.contains('Electronic Arts') | df2['Publisher'].str.contains('SquareSoft') | df2['Publisher'].str.contains('Ubisoft') | df2['Publisher'].str.contains('Bethesda Softworks') | df2['Publisher'].str.contains('Capcom')"
      ],
      "execution_count": 0,
      "outputs": []
    },
    {
      "cell_type": "code",
      "metadata": {
        "id": "EtWroRKcpDbX",
        "colab_type": "code",
        "colab": {}
      },
      "source": [
        "df2.head()"
      ],
      "execution_count": 0,
      "outputs": []
    },
    {
      "cell_type": "code",
      "metadata": {
        "id": "pkThxPr8pDbZ",
        "colab_type": "code",
        "colab": {}
      },
      "source": [
        ""
      ],
      "execution_count": 0,
      "outputs": []
    },
    {
      "cell_type": "code",
      "metadata": {
        "id": "1H-ttI3xpDba",
        "colab_type": "code",
        "colab": {}
      },
      "source": [
        "#Dropping lots of rows with missing values to hopefully make a better model by retaining features\n",
        "\n",
        "df2 = df2.dropna()"
      ],
      "execution_count": 0,
      "outputs": []
    },
    {
      "cell_type": "code",
      "metadata": {
        "id": "95pLv4IfpDbc",
        "colab_type": "code",
        "colab": {}
      },
      "source": [
        "\n",
        "#resetting the index\n",
        "df2 = df2.reset_index()"
      ],
      "execution_count": 0,
      "outputs": []
    },
    {
      "cell_type": "code",
      "metadata": {
        "id": "-U-ayLz3pDbe",
        "colab_type": "code",
        "colab": {}
      },
      "source": [
        "from sklearn.model_selection import train_test_split\n",
        "\n",
        "#Doing a 3 way train, val, test split\n",
        "\n",
        "def train_validate_test_split(df, train_percent=.6, validate_percent=.2, seed=None):\n",
        "    np.random.seed(seed)\n",
        "    perm = np.random.permutation(df.index)\n",
        "    m = len(df.index)\n",
        "    train_end = int(train_percent * m)\n",
        "    validate_end = int(validate_percent * m) + train_end\n",
        "    train = df.iloc[perm[:train_end]]\n",
        "    validate = df.iloc[perm[train_end:validate_end]]\n",
        "    test = df.iloc[perm[validate_end:]]\n",
        "    return train, validate, test\n",
        "\n",
        "train, validate, test = train_validate_test_split(df2)\n"
      ],
      "execution_count": 0,
      "outputs": []
    },
    {
      "cell_type": "code",
      "metadata": {
        "id": "g-q8HYnhpDbh",
        "colab_type": "code",
        "colab": {}
      },
      "source": [
        "train.head()"
      ],
      "execution_count": 0,
      "outputs": []
    },
    {
      "cell_type": "code",
      "metadata": {
        "id": "JPjSvuuRpDbj",
        "colab_type": "code",
        "colab": {}
      },
      "source": [
        "\n",
        "\n",
        "\n",
        "target = 'NA_Sales'\n",
        "#Dropping data leakage of sales from other countries\n",
        "\n",
        "\n",
        "\n",
        "features = train.columns.drop([target], 'Name')\n",
        "\n",
        "X_train = train[features]\n",
        "y_train = train[target]\n",
        "X_val = validate[features]\n",
        "y_val = validate[target]\n",
        "X_test = test[features]\n",
        "y_test = test[target]\n",
        "\n",
        "\n",
        "y_train_log = np.log1p(y_train)\n"
      ],
      "execution_count": 0,
      "outputs": []
    },
    {
      "cell_type": "code",
      "metadata": {
        "id": "Zk9GhsM3pDbl",
        "colab_type": "code",
        "colab": {},
        "outputId": "0bfb5721-2446-4086-aab9-054db7a26f8d"
      },
      "source": [
        "from sklearn.pipeline import make_pipeline\n",
        "import category_encoders as ce\n",
        "from sklearn.ensemble import RandomForestRegressor\n",
        "from sklearn.datasets import make_regression\n",
        "from sklearn.impute import SimpleImputer\n",
        "\n",
        "pipeline = make_pipeline(\n",
        "    ce.OrdinalEncoder(),\n",
        "    SimpleImputer(strategy='mean'),\n",
        "    RandomForestRegressor(),\n",
        "    )\n",
        "\n",
        "pipeline.fit(X_train, y_train_log)"
      ],
      "execution_count": 0,
      "outputs": [
        {
          "output_type": "execute_result",
          "data": {
            "text/plain": [
              "Pipeline(memory=None,\n",
              "         steps=[('ordinalencoder',\n",
              "                 OrdinalEncoder(cols=['Name', 'Platform', 'Genre', 'Publisher',\n",
              "                                      'User_Score', 'Developer', 'Rating'],\n",
              "                                drop_invariant=False, handle_missing='value',\n",
              "                                handle_unknown='value',\n",
              "                                mapping=[{'col': 'Name',\n",
              "                                          'data_type': dtype('O'),\n",
              "                                          'mapping': SEGA Classics Collection               1\n",
              "Football Manager 2014                  2\n",
              "Drakengard 3                           3\n",
              "Pirates: The Legend of Black Kat       4\n",
              "Meta...\n",
              "                 RandomForestRegressor(bootstrap=True, ccp_alpha=0.0,\n",
              "                                       criterion='mse', max_depth=None,\n",
              "                                       max_features='auto', max_leaf_nodes=None,\n",
              "                                       max_samples=None,\n",
              "                                       min_impurity_decrease=0.0,\n",
              "                                       min_impurity_split=None,\n",
              "                                       min_samples_leaf=1, min_samples_split=2,\n",
              "                                       min_weight_fraction_leaf=0.0,\n",
              "                                       n_estimators=100, n_jobs=None,\n",
              "                                       oob_score=False, random_state=None,\n",
              "                                       verbose=0, warm_start=False))],\n",
              "         verbose=False)"
            ]
          },
          "metadata": {
            "tags": []
          },
          "execution_count": 20
        }
      ]
    },
    {
      "cell_type": "code",
      "metadata": {
        "id": "Up5hoea8pDbm",
        "colab_type": "code",
        "colab": {},
        "outputId": "4c3bde40-9e4c-420a-fe95-56088737ba46"
      },
      "source": [
        "from sklearn.metrics import mean_absolute_error\n",
        "\n",
        "y_pred_log = pipeline.predict(X_val)\n",
        "y_pred = np.expm1(y_pred_log)\n",
        "print(mean_absolute_error(y_val, y_pred))"
      ],
      "execution_count": 0,
      "outputs": [
        {
          "output_type": "stream",
          "text": [
            "0.10554457883574367\n"
          ],
          "name": "stdout"
        }
      ]
    },
    {
      "cell_type": "code",
      "metadata": {
        "id": "mV0NBFOmpDbo",
        "colab_type": "code",
        "colab": {},
        "outputId": "bff66c00-2573-42e2-cdb0-7442e1026ed2"
      },
      "source": [
        "from scipy.stats import randint, uniform\n",
        "from sklearn.model_selection import GridSearchCV, RandomizedSearchCV\n",
        "\n",
        "pipeline = make_pipeline(\n",
        "    ce.TargetEncoder(),\n",
        "    SimpleImputer(),\n",
        "    RandomForestRegressor()\n",
        ")\n",
        "\n",
        "param_distributions = {\n",
        "    'simpleimputer__strategy': ['mean', 'median'],\n",
        "    'randomforestregressor__n_estimators': randint(5,500),\n",
        "    'randomforestregressor__max_depth': [5, 10, 15, 20, 25, None],\n",
        "    'randomforestregressor__max_features': uniform(0, 1),\n",
        "    'randomforestregressor__min_samples_leaf': [1, 2, 3, 4, 5, 6, 7, 8, 9, 10],\n",
        "    'randomforestregressor__min_samples_split': [5,6, 7, 8, 9, 10, 11, 12, 13, 14, 15]\n",
        "}\n",
        "\n",
        "search = RandomizedSearchCV(\n",
        "    pipeline,\n",
        "    param_distributions=param_distributions,\n",
        "    n_iter=50,\n",
        "    cv=3,\n",
        "    scoring='r2',\n",
        "    verbose=10,\n",
        "    return_train_score=True,\n",
        "    n_jobs=-1)\n",
        "\n",
        "search.fit(X_train, y_train_log);"
      ],
      "execution_count": 0,
      "outputs": [
        {
          "output_type": "stream",
          "text": [
            "Fitting 3 folds for each of 50 candidates, totalling 150 fits\n"
          ],
          "name": "stdout"
        },
        {
          "output_type": "stream",
          "text": [
            "[Parallel(n_jobs=-1)]: Using backend LokyBackend with 12 concurrent workers.\n",
            "[Parallel(n_jobs=-1)]: Done   1 tasks      | elapsed:    0.8s\n",
            "[Parallel(n_jobs=-1)]: Done   8 tasks      | elapsed:    1.5s\n",
            "[Parallel(n_jobs=-1)]: Done  17 tasks      | elapsed:    2.4s\n",
            "[Parallel(n_jobs=-1)]: Done  26 tasks      | elapsed:    3.7s\n",
            "[Parallel(n_jobs=-1)]: Done  37 tasks      | elapsed:    5.8s\n",
            "[Parallel(n_jobs=-1)]: Done  48 tasks      | elapsed:    7.4s\n",
            "[Parallel(n_jobs=-1)]: Done  61 tasks      | elapsed:    8.9s\n",
            "[Parallel(n_jobs=-1)]: Done  74 tasks      | elapsed:   10.2s\n",
            "[Parallel(n_jobs=-1)]: Done  89 tasks      | elapsed:   12.9s\n",
            "[Parallel(n_jobs=-1)]: Done 104 tasks      | elapsed:   15.0s\n",
            "[Parallel(n_jobs=-1)]: Done 121 tasks      | elapsed:   18.3s\n",
            "[Parallel(n_jobs=-1)]: Done 143 out of 150 | elapsed:   21.5s remaining:    1.0s\n",
            "[Parallel(n_jobs=-1)]: Done 150 out of 150 | elapsed:   22.5s finished\n"
          ],
          "name": "stderr"
        }
      ]
    },
    {
      "cell_type": "code",
      "metadata": {
        "id": "9p0SWl3TpDbr",
        "colab_type": "code",
        "colab": {}
      },
      "source": [
        "pipeline = search.best_estimator_"
      ],
      "execution_count": 0,
      "outputs": []
    },
    {
      "cell_type": "code",
      "metadata": {
        "scrolled": true,
        "id": "pz-K8QhopDbt",
        "colab_type": "code",
        "colab": {},
        "outputId": "dbe55b5c-0d0f-4d46-8d52-b7ae0ab2b8ef"
      },
      "source": [
        "print('Best hyperparameters', search.best_params_)"
      ],
      "execution_count": 0,
      "outputs": [
        {
          "output_type": "stream",
          "text": [
            "Best hyperparameters {'randomforestregressor__max_depth': None, 'randomforestregressor__max_features': 0.7810762504983317, 'randomforestregressor__min_samples_leaf': 1, 'randomforestregressor__min_samples_split': 10, 'randomforestregressor__n_estimators': 463, 'simpleimputer__strategy': 'mean'}\n"
          ],
          "name": "stdout"
        }
      ]
    },
    {
      "cell_type": "code",
      "metadata": {
        "id": "duJJ4geGpDbv",
        "colab_type": "code",
        "colab": {},
        "outputId": "a975449e-418c-455f-d568-096b13ca6e7a"
      },
      "source": [
        "y_pred_log = pipeline.predict(X_val)\n",
        "y_pred = np.expm1(y_pred_log)\n",
        "print(mean_absolute_error(y_val, y_pred))"
      ],
      "execution_count": 0,
      "outputs": [
        {
          "output_type": "stream",
          "text": [
            "0.10702346661580649\n"
          ],
          "name": "stdout"
        }
      ]
    },
    {
      "cell_type": "code",
      "metadata": {
        "id": "GGS8nD7bpDbx",
        "colab_type": "code",
        "colab": {},
        "outputId": "bd0575bb-01a9-4703-dabd-bcfd4c20ab13"
      },
      "source": [
        "from sklearn.metrics import r2_score\n",
        "#Validation score for RandomForestRegressor\n",
        "\n",
        "y_pred_log = pipeline.predict(X_val)\n",
        "y_pred = np.expm1(y_pred_log)\n",
        "r2_score(y_val, y_pred)"
      ],
      "execution_count": 0,
      "outputs": [
        {
          "output_type": "execute_result",
          "data": {
            "text/plain": [
              "0.9072757740695758"
            ]
          },
          "metadata": {
            "tags": []
          },
          "execution_count": 35
        }
      ]
    },
    {
      "cell_type": "code",
      "metadata": {
        "id": "TXNEM48fpDbz",
        "colab_type": "code",
        "colab": {},
        "outputId": "ef5fadeb-505b-4270-e80d-c09d7a579141"
      },
      "source": [
        "#Test score for RandomForestRegressor\n",
        "#Looks like I'm overfitting\n",
        "\n",
        "y_pred_log = pipeline.predict(X_test)\n",
        "y_pred = np.expm1(y_pred_log)\n",
        "r2_score(y_test, y_pred)"
      ],
      "execution_count": 0,
      "outputs": [
        {
          "output_type": "execute_result",
          "data": {
            "text/plain": [
              "0.5525327429326761"
            ]
          },
          "metadata": {
            "tags": []
          },
          "execution_count": 36
        }
      ]
    },
    {
      "cell_type": "code",
      "metadata": {
        "id": "6psiB60kpDb1",
        "colab_type": "code",
        "colab": {},
        "outputId": "1f170eaf-8e61-497f-e75d-217983c6e561"
      },
      "source": [
        "from sklearn.linear_model import LinearRegression\n",
        "\n",
        "\n",
        "pipeline = make_pipeline(\n",
        "    ce.OrdinalEncoder(),\n",
        "    SimpleImputer(strategy='mean'),\n",
        "    LinearRegression(),\n",
        "    )\n",
        "\n",
        "pipeline.fit(X_train, y_train_log)\n",
        "\n",
        "y_pred_log = pipeline.predict(X_val)\n",
        "y_pred = np.expm1(y_pred_log)\n",
        "print(mean_absolute_error(y_val, y_pred))\n",
        "print(r2_score(y_val, y_pred))"
      ],
      "execution_count": 0,
      "outputs": [
        {
          "output_type": "stream",
          "text": [
            "0.2658541639962923\n",
            "0.29307022374785896\n"
          ],
          "name": "stdout"
        }
      ]
    },
    {
      "cell_type": "code",
      "metadata": {
        "id": "ge6kiSkhpDb3",
        "colab_type": "code",
        "colab": {}
      },
      "source": [
        ""
      ],
      "execution_count": 0,
      "outputs": []
    }
  ]
}